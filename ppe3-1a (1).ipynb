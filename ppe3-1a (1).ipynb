{
 "cells": [
  {
   "cell_type": "code",
   "execution_count": 1,
   "id": "9a06383d",
   "metadata": {
    "execution": {
     "iopub.execute_input": "2024-12-16T08:12:52.680620Z",
     "iopub.status.busy": "2024-12-16T08:12:52.680252Z",
     "iopub.status.idle": "2024-12-16T08:12:53.735442Z",
     "shell.execute_reply": "2024-12-16T08:12:53.734594Z"
    },
    "papermill": {
     "duration": 1.061955,
     "end_time": "2024-12-16T08:12:53.737549",
     "exception": false,
     "start_time": "2024-12-16T08:12:52.675594",
     "status": "completed"
    },
    "tags": []
   },
   "outputs": [
    {
     "name": "stdout",
     "output_type": "stream",
     "text": [
      "Mon Dec 16 08:12:53 2024       \r\n",
      "+-----------------------------------------------------------------------------------------+\r\n",
      "| NVIDIA-SMI 560.35.03              Driver Version: 560.35.03      CUDA Version: 12.6     |\r\n",
      "|-----------------------------------------+------------------------+----------------------+\r\n",
      "| GPU  Name                 Persistence-M | Bus-Id          Disp.A | Volatile Uncorr. ECC |\r\n",
      "| Fan  Temp   Perf          Pwr:Usage/Cap |           Memory-Usage | GPU-Util  Compute M. |\r\n",
      "|                                         |                        |               MIG M. |\r\n",
      "|=========================================+========================+======================|\r\n",
      "|   0  Tesla P100-PCIE-16GB           Off |   00000000:00:04.0 Off |                    0 |\r\n",
      "| N/A   32C    P0             27W /  250W |       0MiB /  16384MiB |      0%      Default |\r\n",
      "|                                         |                        |                  N/A |\r\n",
      "+-----------------------------------------+------------------------+----------------------+\r\n",
      "                                                                                         \r\n",
      "+-----------------------------------------------------------------------------------------+\r\n",
      "| Processes:                                                                              |\r\n",
      "|  GPU   GI   CI        PID   Type   Process name                              GPU Memory |\r\n",
      "|        ID   ID                                                               Usage      |\r\n",
      "|=========================================================================================|\r\n",
      "|  No running processes found                                                             |\r\n",
      "+-----------------------------------------------------------------------------------------+\r\n"
     ]
    }
   ],
   "source": [
    "!nvidia-smi"
   ]
  },
  {
   "cell_type": "code",
   "execution_count": 2,
   "id": "8ab616e0",
   "metadata": {
    "execution": {
     "iopub.execute_input": "2024-12-16T08:12:53.745340Z",
     "iopub.status.busy": "2024-12-16T08:12:53.745039Z",
     "iopub.status.idle": "2024-12-16T08:12:58.640319Z",
     "shell.execute_reply": "2024-12-16T08:12:58.639365Z"
    },
    "papermill": {
     "duration": 4.901502,
     "end_time": "2024-12-16T08:12:58.642475",
     "exception": false,
     "start_time": "2024-12-16T08:12:53.740973",
     "status": "completed"
    },
    "tags": []
   },
   "outputs": [],
   "source": [
    "import os\n",
    "import torch\n",
    "import torch.nn as nn\n",
    "import torch.optim as optim\n",
    "from torch.utils.data import Dataset, DataLoader\n",
    "from torchvision.transforms import Compose, ToTensor, Normalize, Resize\n",
    "from torchvision.utils import save_image\n",
    "import csv\n",
    "from tqdm import tqdm\n",
    "import numpy as np\n",
    "import pandas as pd\n",
    "from PIL import Image\n",
    "import torch.nn.functional as F\n",
    "from torch.optim.lr_scheduler import ReduceLROnPlateau\n",
    "import matplotlib.pyplot as plt"
   ]
  },
  {
   "cell_type": "code",
   "execution_count": 3,
   "id": "5ff8c52a",
   "metadata": {
    "execution": {
     "iopub.execute_input": "2024-12-16T08:12:58.650880Z",
     "iopub.status.busy": "2024-12-16T08:12:58.650444Z",
     "iopub.status.idle": "2024-12-16T08:12:58.657007Z",
     "shell.execute_reply": "2024-12-16T08:12:58.656167Z"
    },
    "papermill": {
     "duration": 0.012522,
     "end_time": "2024-12-16T08:12:58.658590",
     "exception": false,
     "start_time": "2024-12-16T08:12:58.646068",
     "status": "completed"
    },
    "tags": []
   },
   "outputs": [],
   "source": [
    "class LowDimDataset(Dataset):\n",
    "    def __init__(self, noisy_dir, gt_dir=None, transform=None):\n",
    "        self.noisy_images = sorted([os.path.join(noisy_dir, fname) for fname in os.listdir(noisy_dir)])\n",
    "        self.gt_images = sorted([os.path.join(gt_dir, fname) for fname in os.listdir(gt_dir)]) if gt_dir else None\n",
    "        self.transform = transform\n",
    "\n",
    "    def __len__(self):\n",
    "        return len(self.noisy_images)\n",
    "\n",
    "    def __getitem__(self, idx):\n",
    "        noisy_image = Image.open(self.noisy_images[idx]).convert(\"RGB\")\n",
    "        if self.transform:\n",
    "            noisy_image = self.transform(noisy_image)\n",
    "        \n",
    "        if self.gt_images:\n",
    "            gt_image = Image.open(self.gt_images[idx]).convert(\"RGB\")\n",
    "            if self.transform:\n",
    "                gt_image = self.transform(gt_image)\n",
    "            return noisy_image, gt_image\n",
    "        return noisy_image\n"
   ]
  },
  {
   "cell_type": "code",
   "execution_count": 4,
   "id": "abe28f64",
   "metadata": {
    "execution": {
     "iopub.execute_input": "2024-12-16T08:12:58.665685Z",
     "iopub.status.busy": "2024-12-16T08:12:58.665354Z",
     "iopub.status.idle": "2024-12-16T08:12:58.669190Z",
     "shell.execute_reply": "2024-12-16T08:12:58.668487Z"
    },
    "papermill": {
     "duration": 0.009132,
     "end_time": "2024-12-16T08:12:58.670724",
     "exception": false,
     "start_time": "2024-12-16T08:12:58.661592",
     "status": "completed"
    },
    "tags": []
   },
   "outputs": [],
   "source": [
    "#Transformations\n",
    "transform = Compose([  # Ensure all images are of the same size\n",
    "    ToTensor(),\n",
    "])\n",
    "torch.cuda.empty_cache()"
   ]
  },
  {
   "cell_type": "code",
   "execution_count": 5,
   "id": "b69a6989",
   "metadata": {
    "execution": {
     "iopub.execute_input": "2024-12-16T08:12:58.677989Z",
     "iopub.status.busy": "2024-12-16T08:12:58.677707Z",
     "iopub.status.idle": "2024-12-16T08:12:58.689542Z",
     "shell.execute_reply": "2024-12-16T08:12:58.688800Z"
    },
    "papermill": {
     "duration": 0.017462,
     "end_time": "2024-12-16T08:12:58.691165",
     "exception": false,
     "start_time": "2024-12-16T08:12:58.673703",
     "status": "completed"
    },
    "tags": []
   },
   "outputs": [],
   "source": [
    "class ResidualDenseBlock(nn.Module):\n",
    "    def __init__(self, in_channels, growth_rate=32, num_layers=5):\n",
    "        super(ResidualDenseBlock, self).__init__()\n",
    "        self.layers = nn.ModuleList()\n",
    "        total_channels = in_channels\n",
    "        for i in range(num_layers):\n",
    "            out_channels = growth_rate\n",
    "            layer = nn.Sequential(\n",
    "                nn.Conv2d(total_channels, out_channels, 3, padding=1),\n",
    "                nn.LeakyReLU(negative_slope=0.2, inplace=True)\n",
    "            )\n",
    "            self.layers.append(layer)\n",
    "            total_channels += out_channels\n",
    "        \n",
    "        # Local Feature Fusion\n",
    "        self.lff = nn.Conv2d(total_channels, in_channels, 1)\n",
    "    \n",
    "    def forward(self, x):\n",
    "        features = [x]\n",
    "        for layer in self.layers:\n",
    "            new_feature = layer(torch.cat(features, dim=1))\n",
    "            features.append(new_feature)\n",
    "        return x + self.lff(torch.cat(features, dim=1))\n",
    "\n",
    "class UpsampleBlock(nn.Module):\n",
    "    def __init__(self, in_channels, scale_factor=2):\n",
    "        super(UpsampleBlock, self).__init__()\n",
    "        self.conv = nn.Conv2d(in_channels, in_channels * (scale_factor ** 2), 3, padding=1)\n",
    "        self.pixel_shuffle = nn.PixelShuffle(scale_factor)\n",
    "        self.activation = nn.LeakyReLU(negative_slope=0.2, inplace=True)\n",
    "    \n",
    "    def forward(self, x):\n",
    "        x = self.conv(x)\n",
    "        x = self.pixel_shuffle(x)\n",
    "        return self.activation(x)\n",
    "\n",
    "class RealESRGAN(nn.Module):\n",
    "    def __init__(self, in_channels=3, base_channels=64, num_blocks=23, upscale_factor=4):\n",
    "        super(RealESRGAN, self).__init__()\n",
    "        \n",
    "        # Initial convolution with noise reduction capability\n",
    "        self.initial_noise_reduction = nn.Sequential(\n",
    "            nn.Conv2d(in_channels, base_channels//2, kernel_size=3, padding=1),\n",
    "            nn.LeakyReLU(negative_slope=0.2),\n",
    "            nn.Conv2d(base_channels//2, base_channels, kernel_size=3, padding=1),\n",
    "            nn.LeakyReLU(negative_slope=0.2)\n",
    "        )\n",
    "        \n",
    "        # Initial feature extraction\n",
    "        self.first_conv = nn.Conv2d(base_channels, base_channels, 3, padding=1)\n",
    "        \n",
    "        # Residual blocks\n",
    "        self.residual_blocks = nn.ModuleList([\n",
    "            ResidualDenseBlock(base_channels) for _ in range(num_blocks)\n",
    "        ])\n",
    "        \n",
    "        # Skip connection\n",
    "        self.skip_conv = nn.Conv2d(base_channels, base_channels, 3, padding=1)\n",
    "        \n",
    "        # Multiple upsampling stages for 4x scaling\n",
    "        self.upsample = nn.Sequential(\n",
    "            UpsampleBlock(base_channels, scale_factor=2),\n",
    "            UpsampleBlock(base_channels, scale_factor=2)\n",
    "        )\n",
    "        \n",
    "        # Final refinement conv\n",
    "        self.refinement = nn.Sequential(\n",
    "            nn.Conv2d(base_channels, base_channels//2, 3, padding=1),\n",
    "            nn.LeakyReLU(negative_slope=0.2),\n",
    "            nn.Conv2d(base_channels//2, in_channels, 3, padding=1)\n",
    "        )\n",
    "    \n",
    "    def forward(self, x):\n",
    "        # Initial noise reduction\n",
    "        x = self.initial_noise_reduction(x)\n",
    "        \n",
    "        # Initial feature extraction\n",
    "        features = self.first_conv(x)\n",
    "        skip = features\n",
    "        \n",
    "        # Residual blocks\n",
    "        for block in self.residual_blocks:\n",
    "            features = block(features)\n",
    "        \n",
    "        # Skip connection\n",
    "        features += self.skip_conv(skip)\n",
    "        \n",
    "        # Upsampling\n",
    "        features = self.upsample(features)\n",
    "        \n",
    "        # Final refinement\n",
    "        return self.refinement(features)\n"
   ]
  },
  {
   "cell_type": "code",
   "execution_count": 6,
   "id": "6224979b",
   "metadata": {
    "execution": {
     "iopub.execute_input": "2024-12-16T08:12:58.699762Z",
     "iopub.status.busy": "2024-12-16T08:12:58.699304Z",
     "iopub.status.idle": "2024-12-16T08:12:58.711190Z",
     "shell.execute_reply": "2024-12-16T08:12:58.710329Z"
    },
    "papermill": {
     "duration": 0.017606,
     "end_time": "2024-12-16T08:12:58.712899",
     "exception": false,
     "start_time": "2024-12-16T08:12:58.695293",
     "status": "completed"
    },
    "tags": []
   },
   "outputs": [],
   "source": [
    "def train_model(model, train_loader, val_loader, criterion, optimizer, \n",
    "                num_epochs=10, device=None, patience=5, \n",
    "                models_dir='/kaggle/working/models'):\n",
    "    \n",
    "    device = device or torch.device('cuda' if torch.cuda.is_available() else 'cpu')\n",
    "    model = model.to(device)\n",
    "    \n",
    "    # Learning rate scheduler\n",
    "    scheduler = ReduceLROnPlateau(optimizer, mode='min', factor=0.5, \n",
    "                                   patience=2, verbose=True)\n",
    "    \n",
    "\n",
    "    train_losses = []\n",
    "    val_losses = []\n",
    "    best_val_loss = float('inf')\n",
    "    epochs_no_improve = 0\n",
    "    \n",
    "    \n",
    "    os.makedirs(models_dir, exist_ok=True)\n",
    "    \n",
    "    # Training loop\n",
    "    for epoch in range(num_epochs):\n",
    "        \n",
    "        model.train()\n",
    "        train_loss = 0.0\n",
    "        \n",
    "        progress_bar = tqdm(train_loader, desc=f'Epoch {epoch+1}/{num_epochs}')\n",
    "        for noisy, gt in progress_bar:\n",
    "            # Move data to device\n",
    "            noisy = noisy.to(device)\n",
    "            gt = gt.to(device)\n",
    "            \n",
    "            # Zero gradients\n",
    "            optimizer.zero_grad()\n",
    "            \n",
    "            # Forward pass\n",
    "            outputs = model(noisy)\n",
    "            \n",
    "            # Compute loss\n",
    "            loss = criterion(outputs, gt)\n",
    "            \n",
    "            # Backward pass\n",
    "            loss.backward()\n",
    "            \n",
    "            # Optimize\n",
    "            optimizer.step()\n",
    "            \n",
    "            # Update progress bar and track loss\n",
    "            train_loss += loss.item()\n",
    "            progress_bar.set_postfix({'Loss': loss.item()})\n",
    "        \n",
    "        # Average training loss for epoch\n",
    "        avg_train_loss = train_loss / len(train_loader)\n",
    "        train_losses.append(avg_train_loss)\n",
    "        \n",
    "        \n",
    "        model.eval()\n",
    "        val_loss = 0.0\n",
    "        \n",
    "        with torch.no_grad():\n",
    "            for noisy, gt in tqdm(val_loader, desc='Validation'):\n",
    "                noisy = noisy.to(device)\n",
    "                gt = gt.to(device)\n",
    "                \n",
    "                outputs = model(noisy)\n",
    "                loss = criterion(outputs, gt)\n",
    "                \n",
    "                val_loss += loss.item()\n",
    "        \n",
    "        # Average validation loss\n",
    "        avg_val_loss = val_loss / len(val_loader)\n",
    "        val_losses.append(avg_val_loss)\n",
    "        \n",
    "        # Learning rate scheduling\n",
    "        scheduler.step(avg_val_loss)\n",
    "        \n",
    "        # Print epoch summary\n",
    "        print(f'Epoch {epoch+1}/{num_epochs}:')\n",
    "        print(f'Train Loss: {avg_train_loss:.4f}, Val Loss: {avg_val_loss:.4f}')\n",
    "        \n",
    "        # Model checkpointing\n",
    "        if avg_val_loss < best_val_loss:\n",
    "            best_val_loss = avg_val_loss\n",
    "            epochs_no_improve = 0\n",
    "            \n",
    "            # Save best model\n",
    "            best_model_path = os.path.join(models_dir, 'i_model.pth')\n",
    "            torch.save({\n",
    "                'epoch': epoch,\n",
    "                'model_state_dict': model.state_dict(),\n",
    "                'optimizer_state_dict': optimizer.state_dict(),\n",
    "                'train_losses': train_losses,\n",
    "                'val_losses': val_losses,\n",
    "                'best_val_loss': best_val_loss\n",
    "            }, best_model_path)\n",
    "            print(f'Saved new best model with val loss: {best_val_loss:.4f}')\n",
    "        else:\n",
    "            epochs_no_improve += 1\n",
    "        \n",
    "        # Early stopping\n",
    "        if epochs_no_improve >= patience:\n",
    "            print(f'Early stopping triggered after {epoch+1} epochs')\n",
    "            break\n",
    "        \n",
    "        # Visualize training progress\n",
    "        plt.figure(figsize=(10, 5))\n",
    "        plt.plot(train_losses, label='Training Loss')\n",
    "        plt.plot(val_losses, label='Validation Loss')\n",
    "        plt.title('Training and Validation Loss')\n",
    "        plt.xlabel('Epoch')\n",
    "        plt.ylabel('Loss')\n",
    "        plt.legend()\n",
    "        plt.tight_layout()\n",
    "        plt.savefig(os.path.join(models_dir, 'loss_plot.png'))\n",
    "        plt.close()\n",
    "    \n",
    "    # Save final model\n",
    "    final_model_path = os.path.join(models_dir, 'final_model.pth')\n",
    "    torch.save({\n",
    "        'epoch': epoch,\n",
    "        'model_state_dict': model.state_dict(),\n",
    "        'optimizer_state_dict': optimizer.state_dict(),\n",
    "        'train_losses': train_losses,\n",
    "        'val_losses': val_losses\n",
    "    }, final_model_path)\n",
    "    \n",
    "    return model, train_losses, val_losses"
   ]
  },
  {
   "cell_type": "code",
   "execution_count": 7,
   "id": "32932f9f",
   "metadata": {
    "execution": {
     "iopub.execute_input": "2024-12-16T08:12:58.720055Z",
     "iopub.status.busy": "2024-12-16T08:12:58.719777Z",
     "iopub.status.idle": "2024-12-16T08:12:58.723769Z",
     "shell.execute_reply": "2024-12-16T08:12:58.722953Z"
    },
    "papermill": {
     "duration": 0.009318,
     "end_time": "2024-12-16T08:12:58.725299",
     "exception": false,
     "start_time": "2024-12-16T08:12:58.715981",
     "status": "completed"
    },
    "tags": []
   },
   "outputs": [],
   "source": [
    "#Dataset dir\n",
    "train_train_dir = \"/kaggle/input/enhance-the-dark-world/archive/train/train\"\n",
    "train_gt_dir = \"/kaggle/input/enhance-the-dark-world/archive/train/gt\"\n",
    "val_val_dir = \"/kaggle/input/enhance-the-dark-world/archive/val/val\"\n",
    "val_gt_dir = \"/kaggle/input/enhance-the-dark-world/archive/val/gt\"\n",
    "test_dir = \"/kaggle/input/enhance-the-dark-world/archive/test\""
   ]
  },
  {
   "cell_type": "code",
   "execution_count": 8,
   "id": "8d73366a",
   "metadata": {
    "execution": {
     "iopub.execute_input": "2024-12-16T08:12:58.732243Z",
     "iopub.status.busy": "2024-12-16T08:12:58.731977Z",
     "iopub.status.idle": "2024-12-16T08:12:58.803603Z",
     "shell.execute_reply": "2024-12-16T08:12:58.802633Z"
    },
    "papermill": {
     "duration": 0.077251,
     "end_time": "2024-12-16T08:12:58.805529",
     "exception": false,
     "start_time": "2024-12-16T08:12:58.728278",
     "status": "completed"
    },
    "tags": []
   },
   "outputs": [],
   "source": [
    "train_dataset = LowDimDataset(train_train_dir, train_gt_dir, transform=transform)\n",
    "val_dataset = LowDimDataset(val_val_dir, val_gt_dir, transform=transform)\n",
    "test_dataset = LowDimDataset(test_dir, transform=transform)"
   ]
  },
  {
   "cell_type": "code",
   "execution_count": 9,
   "id": "5ed08d42",
   "metadata": {
    "execution": {
     "iopub.execute_input": "2024-12-16T08:12:58.812616Z",
     "iopub.status.busy": "2024-12-16T08:12:58.812249Z",
     "iopub.status.idle": "2024-12-16T08:12:58.816625Z",
     "shell.execute_reply": "2024-12-16T08:12:58.815881Z"
    },
    "papermill": {
     "duration": 0.009576,
     "end_time": "2024-12-16T08:12:58.818166",
     "exception": false,
     "start_time": "2024-12-16T08:12:58.808590",
     "status": "completed"
    },
    "tags": []
   },
   "outputs": [],
   "source": [
    "train_loader = DataLoader(train_dataset, batch_size=1, shuffle=True)\n",
    "val_loader = DataLoader(val_dataset, batch_size=1, shuffle=False)\n",
    "test_loader = DataLoader(test_dataset, batch_size=1, shuffle=False)"
   ]
  },
  {
   "cell_type": "code",
   "execution_count": 10,
   "id": "fb2ae838",
   "metadata": {
    "execution": {
     "iopub.execute_input": "2024-12-16T08:12:58.824865Z",
     "iopub.status.busy": "2024-12-16T08:12:58.824616Z",
     "iopub.status.idle": "2024-12-16T08:12:58.914790Z",
     "shell.execute_reply": "2024-12-16T08:12:58.913835Z"
    },
    "papermill": {
     "duration": 0.095652,
     "end_time": "2024-12-16T08:12:58.916668",
     "exception": false,
     "start_time": "2024-12-16T08:12:58.821016",
     "status": "completed"
    },
    "tags": []
   },
   "outputs": [],
   "source": [
    "model = RealESRGAN(in_channels=3, base_channels=64, num_blocks=23, upscale_factor=4)\n",
    "# loss function\n",
    "criterion = nn.MSELoss()\n",
    "\n",
    "# optimizer\n",
    "optimizer = optim.Adam(model.parameters(), lr=1e-4, weight_decay=1e-5)"
   ]
  },
  {
   "cell_type": "code",
   "execution_count": 11,
   "id": "8b7dce3d",
   "metadata": {
    "execution": {
     "iopub.execute_input": "2024-12-16T08:12:58.923799Z",
     "iopub.status.busy": "2024-12-16T08:12:58.923537Z",
     "iopub.status.idle": "2024-12-16T09:36:50.077455Z",
     "shell.execute_reply": "2024-12-16T09:36:50.076394Z"
    },
    "papermill": {
     "duration": 5031.159886,
     "end_time": "2024-12-16T09:36:50.079671",
     "exception": false,
     "start_time": "2024-12-16T08:12:58.919785",
     "status": "completed"
    },
    "tags": []
   },
   "outputs": [
    {
     "name": "stderr",
     "output_type": "stream",
     "text": [
      "/opt/conda/lib/python3.10/site-packages/torch/optim/lr_scheduler.py:60: UserWarning: The verbose parameter is deprecated. Please use get_last_lr() to access the learning rate.\n",
      "  warnings.warn(\n",
      "Epoch 1/15: 100%|██████████| 1105/1105 [05:38<00:00,  3.26it/s, Loss=0.000392]\n",
      "Validation: 100%|██████████| 267/267 [00:31<00:00,  8.48it/s]\n"
     ]
    },
    {
     "name": "stdout",
     "output_type": "stream",
     "text": [
      "Epoch 1/15:\n",
      "Train Loss: 0.0010, Val Loss: 0.0003\n",
      "Saved new best model with val loss: 0.0003\n"
     ]
    },
    {
     "name": "stderr",
     "output_type": "stream",
     "text": [
      "Epoch 2/15: 100%|██████████| 1105/1105 [05:09<00:00,  3.57it/s, Loss=0.000408]\n",
      "Validation: 100%|██████████| 267/267 [00:26<00:00, 10.20it/s]\n"
     ]
    },
    {
     "name": "stdout",
     "output_type": "stream",
     "text": [
      "Epoch 2/15:\n",
      "Train Loss: 0.0004, Val Loss: 0.0002\n",
      "Saved new best model with val loss: 0.0002\n"
     ]
    },
    {
     "name": "stderr",
     "output_type": "stream",
     "text": [
      "Epoch 3/15: 100%|██████████| 1105/1105 [05:09<00:00,  3.57it/s, Loss=0.000437]\n",
      "Validation: 100%|██████████| 267/267 [00:25<00:00, 10.49it/s]\n"
     ]
    },
    {
     "name": "stdout",
     "output_type": "stream",
     "text": [
      "Epoch 3/15:\n",
      "Train Loss: 0.0004, Val Loss: 0.0002\n"
     ]
    },
    {
     "name": "stderr",
     "output_type": "stream",
     "text": [
      "Epoch 4/15: 100%|██████████| 1105/1105 [05:06<00:00,  3.61it/s, Loss=0.000506]\n",
      "Validation: 100%|██████████| 267/267 [00:25<00:00, 10.46it/s]\n"
     ]
    },
    {
     "name": "stdout",
     "output_type": "stream",
     "text": [
      "Epoch 4/15:\n",
      "Train Loss: 0.0003, Val Loss: 0.0002\n"
     ]
    },
    {
     "name": "stderr",
     "output_type": "stream",
     "text": [
      "Epoch 5/15: 100%|██████████| 1105/1105 [05:07<00:00,  3.60it/s, Loss=0.000294]\n",
      "Validation: 100%|██████████| 267/267 [00:24<00:00, 10.72it/s]\n"
     ]
    },
    {
     "name": "stdout",
     "output_type": "stream",
     "text": [
      "Epoch 5/15:\n",
      "Train Loss: 0.0003, Val Loss: 0.0004\n"
     ]
    },
    {
     "name": "stderr",
     "output_type": "stream",
     "text": [
      "Epoch 6/15: 100%|██████████| 1105/1105 [05:06<00:00,  3.60it/s, Loss=0.000218]\n",
      "Validation: 100%|██████████| 267/267 [00:25<00:00, 10.50it/s]\n"
     ]
    },
    {
     "name": "stdout",
     "output_type": "stream",
     "text": [
      "Epoch 6/15:\n",
      "Train Loss: 0.0003, Val Loss: 0.0002\n",
      "Saved new best model with val loss: 0.0002\n"
     ]
    },
    {
     "name": "stderr",
     "output_type": "stream",
     "text": [
      "Epoch 7/15: 100%|██████████| 1105/1105 [05:06<00:00,  3.61it/s, Loss=0.000401]\n",
      "Validation: 100%|██████████| 267/267 [00:25<00:00, 10.62it/s]\n"
     ]
    },
    {
     "name": "stdout",
     "output_type": "stream",
     "text": [
      "Epoch 7/15:\n",
      "Train Loss: 0.0003, Val Loss: 0.0002\n"
     ]
    },
    {
     "name": "stderr",
     "output_type": "stream",
     "text": [
      "Epoch 8/15: 100%|██████████| 1105/1105 [05:06<00:00,  3.61it/s, Loss=0.000455]\n",
      "Validation: 100%|██████████| 267/267 [00:24<00:00, 10.69it/s]\n"
     ]
    },
    {
     "name": "stdout",
     "output_type": "stream",
     "text": [
      "Epoch 8/15:\n",
      "Train Loss: 0.0003, Val Loss: 0.0002\n",
      "Saved new best model with val loss: 0.0002\n"
     ]
    },
    {
     "name": "stderr",
     "output_type": "stream",
     "text": [
      "Epoch 9/15: 100%|██████████| 1105/1105 [05:06<00:00,  3.61it/s, Loss=0.000215]\n",
      "Validation: 100%|██████████| 267/267 [00:25<00:00, 10.65it/s]\n"
     ]
    },
    {
     "name": "stdout",
     "output_type": "stream",
     "text": [
      "Epoch 9/15:\n",
      "Train Loss: 0.0003, Val Loss: 0.0002\n",
      "Saved new best model with val loss: 0.0002\n"
     ]
    },
    {
     "name": "stderr",
     "output_type": "stream",
     "text": [
      "Epoch 10/15: 100%|██████████| 1105/1105 [05:06<00:00,  3.60it/s, Loss=0.000445]\n",
      "Validation: 100%|██████████| 267/267 [00:24<00:00, 10.70it/s]\n"
     ]
    },
    {
     "name": "stdout",
     "output_type": "stream",
     "text": [
      "Epoch 10/15:\n",
      "Train Loss: 0.0003, Val Loss: 0.0002\n"
     ]
    },
    {
     "name": "stderr",
     "output_type": "stream",
     "text": [
      "Epoch 11/15: 100%|██████████| 1105/1105 [05:06<00:00,  3.60it/s, Loss=0.000308]\n",
      "Validation: 100%|██████████| 267/267 [00:25<00:00, 10.52it/s]\n"
     ]
    },
    {
     "name": "stdout",
     "output_type": "stream",
     "text": [
      "Epoch 11/15:\n",
      "Train Loss: 0.0003, Val Loss: 0.0002\n",
      "Saved new best model with val loss: 0.0002\n"
     ]
    },
    {
     "name": "stderr",
     "output_type": "stream",
     "text": [
      "Epoch 12/15: 100%|██████████| 1105/1105 [05:07<00:00,  3.59it/s, Loss=0.000192]\n",
      "Validation: 100%|██████████| 267/267 [00:25<00:00, 10.64it/s]\n"
     ]
    },
    {
     "name": "stdout",
     "output_type": "stream",
     "text": [
      "Epoch 12/15:\n",
      "Train Loss: 0.0003, Val Loss: 0.0002\n"
     ]
    },
    {
     "name": "stderr",
     "output_type": "stream",
     "text": [
      "Epoch 13/15: 100%|██████████| 1105/1105 [05:06<00:00,  3.60it/s, Loss=0.000328]\n",
      "Validation: 100%|██████████| 267/267 [00:26<00:00,  9.91it/s]\n"
     ]
    },
    {
     "name": "stdout",
     "output_type": "stream",
     "text": [
      "Epoch 13/15:\n",
      "Train Loss: 0.0003, Val Loss: 0.0002\n"
     ]
    },
    {
     "name": "stderr",
     "output_type": "stream",
     "text": [
      "Epoch 14/15: 100%|██████████| 1105/1105 [05:06<00:00,  3.60it/s, Loss=0.000243]\n",
      "Validation: 100%|██████████| 267/267 [00:25<00:00, 10.58it/s]\n"
     ]
    },
    {
     "name": "stdout",
     "output_type": "stream",
     "text": [
      "Epoch 14/15:\n",
      "Train Loss: 0.0003, Val Loss: 0.0002\n"
     ]
    },
    {
     "name": "stderr",
     "output_type": "stream",
     "text": [
      "Epoch 15/15: 100%|██████████| 1105/1105 [05:06<00:00,  3.60it/s, Loss=0.000241]\n",
      "Validation: 100%|██████████| 267/267 [00:25<00:00, 10.60it/s]\n"
     ]
    },
    {
     "name": "stdout",
     "output_type": "stream",
     "text": [
      "Epoch 15/15:\n",
      "Train Loss: 0.0003, Val Loss: 0.0002\n"
     ]
    }
   ],
   "source": [
    "# Train the model\n",
    "trained_model, train_losses, val_losses = train_model(\n",
    "    model=model,\n",
    "    train_loader=train_loader,\n",
    "    val_loader=val_loader,\n",
    "    criterion=criterion,\n",
    "    optimizer=optimizer,\n",
    "    num_epochs=15,\n",
    "    patience=5\n",
    "    )"
   ]
  },
  {
   "cell_type": "code",
   "execution_count": 12,
   "id": "0b79c7f1",
   "metadata": {
    "execution": {
     "iopub.execute_input": "2024-12-16T09:36:53.443832Z",
     "iopub.status.busy": "2024-12-16T09:36:53.443468Z",
     "iopub.status.idle": "2024-12-16T09:36:53.447928Z",
     "shell.execute_reply": "2024-12-16T09:36:53.447067Z"
    },
    "papermill": {
     "duration": 1.726954,
     "end_time": "2024-12-16T09:36:53.449662",
     "exception": false,
     "start_time": "2024-12-16T09:36:51.722708",
     "status": "completed"
    },
    "tags": []
   },
   "outputs": [],
   "source": [
    "device = torch.device('cuda' if torch.cuda.is_available() else 'cpu')"
   ]
  },
  {
   "cell_type": "code",
   "execution_count": 13,
   "id": "8332029b",
   "metadata": {
    "execution": {
     "iopub.execute_input": "2024-12-16T09:36:56.764575Z",
     "iopub.status.busy": "2024-12-16T09:36:56.763968Z",
     "iopub.status.idle": "2024-12-16T09:37:19.909260Z",
     "shell.execute_reply": "2024-12-16T09:37:19.908273Z"
    },
    "papermill": {
     "duration": 24.780912,
     "end_time": "2024-12-16T09:37:19.911038",
     "exception": false,
     "start_time": "2024-12-16T09:36:55.130126",
     "status": "completed"
    },
    "tags": []
   },
   "outputs": [
    {
     "name": "stdout",
     "output_type": "stream",
     "text": [
      "All Images saved in .png format\n"
     ]
    }
   ],
   "source": [
    "output_dir = \"/kaggle/working/test_gt\"\n",
    "os.makedirs(output_dir, exist_ok=True)\n",
    "\n",
    "model.eval()\n",
    "with torch.no_grad():\n",
    "    for idx, noisy in enumerate(test_loader):\n",
    "        noisy = noisy.to(device)\n",
    "        outputs = model(noisy)\n",
    "        image_name = f\"gt_{idx+1:05d}.png\"  # Image name\n",
    "        save_image(outputs, os.path.join(output_dir, image_name))\n",
    "        #print(f\"Saved image: {image_name}\")  # Print image name\n",
    "print('All Images saved in .png format')"
   ]
  },
  {
   "cell_type": "code",
   "execution_count": 14,
   "id": "3a5ed133",
   "metadata": {
    "execution": {
     "iopub.execute_input": "2024-12-16T09:37:23.214033Z",
     "iopub.status.busy": "2024-12-16T09:37:23.213713Z",
     "iopub.status.idle": "2024-12-16T09:38:05.730331Z",
     "shell.execute_reply": "2024-12-16T09:38:05.729471Z"
    },
    "papermill": {
     "duration": 45.877147,
     "end_time": "2024-12-16T09:38:07.438842",
     "exception": false,
     "start_time": "2024-12-16T09:37:21.561695",
     "status": "completed"
    },
    "tags": []
   },
   "outputs": [
    {
     "name": "stdout",
     "output_type": "stream",
     "text": [
      "Successfully saved to submission.csv\n"
     ]
    }
   ],
   "source": [
    "def images_to_csv(folder_path, output_csv):\n",
    "    data_rows = []\n",
    "    for filename in sorted(os.listdir(folder_path)):\n",
    "        if filename.endswith(('.png', '.jpg', '.jpeg', '.bmp', '.tiff')):\n",
    "            image_path = os.path.join(folder_path, filename)\n",
    "            image = Image.open(image_path).convert('L')\n",
    "            #print(image.size)\n",
    "            image_array = np.array(image).flatten()[::8]\n",
    "            #print(image_array.shape)\n",
    "            # Replace 'test_' with 'gt_' in the ID\n",
    "            image_id = filename.split('.')[0]\n",
    "            data_rows.append([image_id, *image_array])\n",
    "    column_names = ['ID'] + [f'pixel_{i}' for i in range(len(data_rows[0]) - 1)]\n",
    "    df = pd.DataFrame(data_rows, columns=column_names)\n",
    "    df.to_csv(output_csv, index=False)\n",
    "    print(f'Successfully saved to {output_csv}')\n",
    "\n",
    "folder_path = '/kaggle/working/test_gt'\n",
    "output_csv = 'submission.csv'\n",
    "images_to_csv(folder_path, output_csv)\n"
   ]
  },
  {
   "cell_type": "code",
   "execution_count": 15,
   "id": "0ff12b58",
   "metadata": {
    "execution": {
     "iopub.execute_input": "2024-12-16T09:38:10.824170Z",
     "iopub.status.busy": "2024-12-16T09:38:10.823826Z",
     "iopub.status.idle": "2024-12-16T09:38:15.311364Z",
     "shell.execute_reply": "2024-12-16T09:38:15.310478Z"
    },
    "papermill": {
     "duration": 6.240666,
     "end_time": "2024-12-16T09:38:15.313063",
     "exception": false,
     "start_time": "2024-12-16T09:38:09.072397",
     "status": "completed"
    },
    "tags": []
   },
   "outputs": [
    {
     "data": {
      "text/html": [
       "<div>\n",
       "<style scoped>\n",
       "    .dataframe tbody tr th:only-of-type {\n",
       "        vertical-align: middle;\n",
       "    }\n",
       "\n",
       "    .dataframe tbody tr th {\n",
       "        vertical-align: top;\n",
       "    }\n",
       "\n",
       "    .dataframe thead th {\n",
       "        text-align: right;\n",
       "    }\n",
       "</style>\n",
       "<table border=\"1\" class=\"dataframe\">\n",
       "  <thead>\n",
       "    <tr style=\"text-align: right;\">\n",
       "      <th></th>\n",
       "      <th>ID</th>\n",
       "      <th>pixel_0</th>\n",
       "      <th>pixel_1</th>\n",
       "      <th>pixel_2</th>\n",
       "      <th>pixel_3</th>\n",
       "      <th>pixel_4</th>\n",
       "      <th>pixel_5</th>\n",
       "      <th>pixel_6</th>\n",
       "      <th>pixel_7</th>\n",
       "      <th>pixel_8</th>\n",
       "      <th>...</th>\n",
       "      <th>pixel_81910</th>\n",
       "      <th>pixel_81911</th>\n",
       "      <th>pixel_81912</th>\n",
       "      <th>pixel_81913</th>\n",
       "      <th>pixel_81914</th>\n",
       "      <th>pixel_81915</th>\n",
       "      <th>pixel_81916</th>\n",
       "      <th>pixel_81917</th>\n",
       "      <th>pixel_81918</th>\n",
       "      <th>pixel_81919</th>\n",
       "    </tr>\n",
       "  </thead>\n",
       "  <tbody>\n",
       "    <tr>\n",
       "      <th>0</th>\n",
       "      <td>gt_00001</td>\n",
       "      <td>35</td>\n",
       "      <td>58</td>\n",
       "      <td>60</td>\n",
       "      <td>48</td>\n",
       "      <td>54</td>\n",
       "      <td>56</td>\n",
       "      <td>47</td>\n",
       "      <td>45</td>\n",
       "      <td>47</td>\n",
       "      <td>...</td>\n",
       "      <td>26</td>\n",
       "      <td>25</td>\n",
       "      <td>27</td>\n",
       "      <td>27</td>\n",
       "      <td>24</td>\n",
       "      <td>25</td>\n",
       "      <td>27</td>\n",
       "      <td>27</td>\n",
       "      <td>27</td>\n",
       "      <td>28</td>\n",
       "    </tr>\n",
       "    <tr>\n",
       "      <th>1</th>\n",
       "      <td>gt_00002</td>\n",
       "      <td>25</td>\n",
       "      <td>36</td>\n",
       "      <td>46</td>\n",
       "      <td>49</td>\n",
       "      <td>50</td>\n",
       "      <td>44</td>\n",
       "      <td>37</td>\n",
       "      <td>33</td>\n",
       "      <td>41</td>\n",
       "      <td>...</td>\n",
       "      <td>34</td>\n",
       "      <td>34</td>\n",
       "      <td>38</td>\n",
       "      <td>38</td>\n",
       "      <td>38</td>\n",
       "      <td>36</td>\n",
       "      <td>35</td>\n",
       "      <td>34</td>\n",
       "      <td>37</td>\n",
       "      <td>38</td>\n",
       "    </tr>\n",
       "    <tr>\n",
       "      <th>2</th>\n",
       "      <td>gt_00003</td>\n",
       "      <td>22</td>\n",
       "      <td>36</td>\n",
       "      <td>37</td>\n",
       "      <td>34</td>\n",
       "      <td>36</td>\n",
       "      <td>34</td>\n",
       "      <td>32</td>\n",
       "      <td>34</td>\n",
       "      <td>39</td>\n",
       "      <td>...</td>\n",
       "      <td>35</td>\n",
       "      <td>36</td>\n",
       "      <td>38</td>\n",
       "      <td>40</td>\n",
       "      <td>37</td>\n",
       "      <td>37</td>\n",
       "      <td>40</td>\n",
       "      <td>41</td>\n",
       "      <td>42</td>\n",
       "      <td>37</td>\n",
       "    </tr>\n",
       "    <tr>\n",
       "      <th>3</th>\n",
       "      <td>gt_00004</td>\n",
       "      <td>31</td>\n",
       "      <td>60</td>\n",
       "      <td>64</td>\n",
       "      <td>62</td>\n",
       "      <td>67</td>\n",
       "      <td>73</td>\n",
       "      <td>82</td>\n",
       "      <td>104</td>\n",
       "      <td>102</td>\n",
       "      <td>...</td>\n",
       "      <td>43</td>\n",
       "      <td>44</td>\n",
       "      <td>43</td>\n",
       "      <td>43</td>\n",
       "      <td>42</td>\n",
       "      <td>42</td>\n",
       "      <td>44</td>\n",
       "      <td>43</td>\n",
       "      <td>46</td>\n",
       "      <td>47</td>\n",
       "    </tr>\n",
       "    <tr>\n",
       "      <th>4</th>\n",
       "      <td>gt_00005</td>\n",
       "      <td>17</td>\n",
       "      <td>25</td>\n",
       "      <td>27</td>\n",
       "      <td>27</td>\n",
       "      <td>25</td>\n",
       "      <td>25</td>\n",
       "      <td>23</td>\n",
       "      <td>25</td>\n",
       "      <td>25</td>\n",
       "      <td>...</td>\n",
       "      <td>54</td>\n",
       "      <td>52</td>\n",
       "      <td>51</td>\n",
       "      <td>51</td>\n",
       "      <td>52</td>\n",
       "      <td>53</td>\n",
       "      <td>54</td>\n",
       "      <td>53</td>\n",
       "      <td>52</td>\n",
       "      <td>51</td>\n",
       "    </tr>\n",
       "  </tbody>\n",
       "</table>\n",
       "<p>5 rows × 81921 columns</p>\n",
       "</div>"
      ],
      "text/plain": [
       "         ID  pixel_0  pixel_1  pixel_2  pixel_3  pixel_4  pixel_5  pixel_6  \\\n",
       "0  gt_00001       35       58       60       48       54       56       47   \n",
       "1  gt_00002       25       36       46       49       50       44       37   \n",
       "2  gt_00003       22       36       37       34       36       34       32   \n",
       "3  gt_00004       31       60       64       62       67       73       82   \n",
       "4  gt_00005       17       25       27       27       25       25       23   \n",
       "\n",
       "   pixel_7  pixel_8  ...  pixel_81910  pixel_81911  pixel_81912  pixel_81913  \\\n",
       "0       45       47  ...           26           25           27           27   \n",
       "1       33       41  ...           34           34           38           38   \n",
       "2       34       39  ...           35           36           38           40   \n",
       "3      104      102  ...           43           44           43           43   \n",
       "4       25       25  ...           54           52           51           51   \n",
       "\n",
       "   pixel_81914  pixel_81915  pixel_81916  pixel_81917  pixel_81918  \\\n",
       "0           24           25           27           27           27   \n",
       "1           38           36           35           34           37   \n",
       "2           37           37           40           41           42   \n",
       "3           42           42           44           43           46   \n",
       "4           52           53           54           53           52   \n",
       "\n",
       "   pixel_81919  \n",
       "0           28  \n",
       "1           38  \n",
       "2           37  \n",
       "3           47  \n",
       "4           51  \n",
       "\n",
       "[5 rows x 81921 columns]"
      ]
     },
     "execution_count": 15,
     "metadata": {},
     "output_type": "execute_result"
    }
   ],
   "source": [
    "sub = pd.read_csv(\"/kaggle/working/submission.csv\")\n",
    "sub.head()"
   ]
  }
 ],
 "metadata": {
  "kaggle": {
   "accelerator": "gpu",
   "dataSources": [
    {
     "databundleVersionId": 10486094,
     "sourceId": 89760,
     "sourceType": "competition"
    }
   ],
   "dockerImageVersionId": 30805,
   "isGpuEnabled": true,
   "isInternetEnabled": true,
   "language": "python",
   "sourceType": "notebook"
  },
  "kernelspec": {
   "display_name": "Python 3",
   "language": "python",
   "name": "python3"
  },
  "language_info": {
   "codemirror_mode": {
    "name": "ipython",
    "version": 3
   },
   "file_extension": ".py",
   "mimetype": "text/x-python",
   "name": "python",
   "nbconvert_exporter": "python",
   "pygments_lexer": "ipython3",
   "version": "3.10.14"
  },
  "papermill": {
   "default_parameters": {},
   "duration": 5128.150217,
   "end_time": "2024-12-16T09:38:18.499476",
   "environment_variables": {},
   "exception": null,
   "input_path": "__notebook__.ipynb",
   "output_path": "__notebook__.ipynb",
   "parameters": {},
   "start_time": "2024-12-16T08:12:50.349259",
   "version": "2.6.0"
  }
 },
 "nbformat": 4,
 "nbformat_minor": 5
}
